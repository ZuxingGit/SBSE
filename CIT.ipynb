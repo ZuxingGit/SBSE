{
 "cells": [
  {
   "cell_type": "markdown",
   "metadata": {},
   "source": [
    "Hello SBSE,\n",
    "Start writing a program for generating Django pairwise test suite."
   ]
  },
  {
   "cell_type": "code",
   "execution_count": 1,
   "metadata": {},
   "outputs": [],
   "source": [
    "# 1. get file content from \n",
    "# https://github.com/django/django/blob/45bef6706ae7436b5c2c503018b21ff70b2e6728/django/conf/global_settings.py\n",
    "import requests\n",
    "\n",
    "def get_file_content_from_github(url):\n",
    "    # Send a GET request to the GitHub URL\n",
    "    response = requests.get(url)\n",
    "    \n",
    "    # Check if the request was successful (status code 200)\n",
    "    if response.status_code == 200:\n",
    "        # Return the content of the file\n",
    "        return response.text\n",
    "    else:\n",
    "        # If the request was not successful, print an error message\n",
    "        print(f\"Error: Failed to fetch file from {url}. Status code: {response.status_code}\")\n",
    "        return None\n",
    "\n",
    "# GitHub file URL\n",
    "github_url = \"https://raw.githubusercontent.com/django/django/45bef6706ae7436b5c2c503018b21ff70b2e6728/django/conf/global_settings.py\"\n",
    "\n",
    "# Get the content of the file\n",
    "file_content = get_file_content_from_github(github_url)\n",
    "\n",
    "# Print the content of the file\n",
    "# if file_content:\n",
    "#     print(file_content)"
   ]
  },
  {
   "cell_type": "code",
   "execution_count": 2,
   "metadata": {},
   "outputs": [
    {
     "name": "stdout",
     "output_type": "stream",
     "text": [
      "Number of parameters: 144\n",
      "Number of boolean parameters: 27\n",
      "Boolean parameters in the Django settings file:\n",
      "DEBUG\n",
      "DEBUG_PROPAGATE_EXCEPTIONS\n",
      "USE_TZ\n",
      "USE_I18N\n",
      "LANGUAGE_COOKIE_SECURE\n",
      "LANGUAGE_COOKIE_HTTPONLY\n",
      "USE_L10N\n",
      "EMAIL_USE_LOCALTIME\n",
      "EMAIL_USE_TLS\n",
      "EMAIL_USE_SSL\n",
      "APPEND_SLASH\n",
      "PREPEND_WWW\n",
      "USE_THOUSAND_SEPARATOR\n",
      "USE_X_FORWARDED_HOST\n",
      "USE_X_FORWARDED_PORT\n",
      "SESSION_COOKIE_SECURE\n",
      "SESSION_COOKIE_HTTPONLY\n",
      "SESSION_SAVE_EVERY_REQUEST\n",
      "SESSION_EXPIRE_AT_BROWSER_CLOSE\n",
      "CSRF_COOKIE_SECURE\n",
      "CSRF_COOKIE_HTTPONLY\n",
      "CSRF_USE_SESSIONS\n",
      "SECURE_BROWSER_XSS_FILTER\n",
      "SECURE_CONTENT_TYPE_NOSNIFF\n",
      "SECURE_HSTS_INCLUDE_SUBDOMAINS\n",
      "SECURE_HSTS_PRELOAD\n",
      "SECURE_SSL_REDIRECT\n"
     ]
    }
   ],
   "source": [
    "# 2. analyze this file content\n",
    "import re\n",
    "\n",
    "# How many parameters\n",
    "parameter_count = len(re.findall(r'^\\s*([A-Z_0-9*]+)\\s*=', file_content, re.MULTILINE))\n",
    "print(\"Number of parameters:\", parameter_count)\n",
    "\n",
    "# List all the Boolean parameters\n",
    "boolean_parameters = re.findall(r'^\\s*([A-Z_0-9*]+)\\s*=\\s*(True|False)\\s*$', file_content, re.MULTILINE)\n",
    "print(\"Number of boolean parameters:\", len(boolean_parameters))\n",
    "print(\"Boolean parameters in the Django settings file:\")\n",
    "for parameter in boolean_parameters:\n",
    "    print(parameter[0])"
   ]
  },
  {
   "cell_type": "code",
   "execution_count": 3,
   "metadata": {},
   "outputs": [],
   "source": [
    "# Create a pairwise test suite for all Boolean parameters\n",
    "t = 2\n",
    "boolean_parameters\n",
    "# testing array\n",
    "ts=[]\n",
    "# Then ??? \n",
    "# No clue for now"
   ]
  }
 ],
 "metadata": {
  "kernelspec": {
   "display_name": "Python 3",
   "language": "python",
   "name": "python3"
  },
  "language_info": {
   "codemirror_mode": {
    "name": "ipython",
    "version": 3
   },
   "file_extension": ".py",
   "mimetype": "text/x-python",
   "name": "python",
   "nbconvert_exporter": "python",
   "pygments_lexer": "ipython3",
   "version": "3.11.5"
  }
 },
 "nbformat": 4,
 "nbformat_minor": 2
}
